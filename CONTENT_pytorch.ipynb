{
 "cells": [
  {
   "cell_type": "markdown",
   "metadata": {
    "id": "HAXKI9Fad0zG"
   },
   "source": [
    "Upload the raw dataset and/or any intermediate artifacts."
   ]
  },
  {
   "cell_type": "code",
   "execution_count": null,
   "metadata": {
    "id": "Su9xK3RR87aF"
   },
   "outputs": [],
   "source": [
    "import google.colab\n",
    "import os\n",
    "\n",
    "UPLOAD_ROOT = '/content'\n",
    "DATA_FILE = 'S1_File.txt'\n",
    "\n",
    "if not os.path.isfile(os.path.join(UPLOAD_ROOT, DATA_FILE)):\n",
    "  google.colab.files.upload()\n",
    "\n",
    "assert os.path.isfile(os.path.join(UPLOAD_ROOT, DATA_FILE))"
   ]
  },
  {
   "cell_type": "markdown",
   "metadata": {
    "id": "bbY5zMl5d7oC"
   },
   "source": [
    "Parse the raw dataset."
   ]
  },
  {
   "cell_type": "code",
   "execution_count": null,
   "metadata": {
    "colab": {
     "base_uri": "https://localhost:8080/",
     "height": 206
    },
    "id": "ivMFEPKyA2jf",
    "outputId": "2bfef98b-5f4f-4ed2-f17c-294240159ac1"
   },
   "outputs": [
    {
     "data": {
      "text/html": [
       "\n",
       "  <div id=\"df-d9aa8cbf-5025-491c-a13c-0edb7392ab9f\">\n",
       "    <div class=\"colab-df-container\">\n",
       "      <div>\n",
       "<style scoped>\n",
       "    .dataframe tbody tr th:only-of-type {\n",
       "        vertical-align: middle;\n",
       "    }\n",
       "\n",
       "    .dataframe tbody tr th {\n",
       "        vertical-align: top;\n",
       "    }\n",
       "\n",
       "    .dataframe thead th {\n",
       "        text-align: right;\n",
       "    }\n",
       "</style>\n",
       "<table border=\"1\" class=\"dataframe\">\n",
       "  <thead>\n",
       "    <tr style=\"text-align: right;\">\n",
       "      <th></th>\n",
       "      <th>PID</th>\n",
       "      <th>DAY_ID</th>\n",
       "      <th>DX_GROUP_DESCRIPTION</th>\n",
       "      <th>SERVICE_LOCATION</th>\n",
       "      <th>OP_DATE</th>\n",
       "    </tr>\n",
       "  </thead>\n",
       "  <tbody>\n",
       "    <tr>\n",
       "      <th>0</th>\n",
       "      <td>1</td>\n",
       "      <td>73888</td>\n",
       "      <td>ANGINA PECTORIS</td>\n",
       "      <td>DOCTORS OFFICE</td>\n",
       "      <td>74084</td>\n",
       "    </tr>\n",
       "    <tr>\n",
       "      <th>1</th>\n",
       "      <td>1</td>\n",
       "      <td>73888</td>\n",
       "      <td>MONONEURITIS OF UPPER LIMB AND MONONEURITIS MU...</td>\n",
       "      <td>DOCTORS OFFICE</td>\n",
       "      <td>74084</td>\n",
       "    </tr>\n",
       "    <tr>\n",
       "      <th>2</th>\n",
       "      <td>1</td>\n",
       "      <td>73888</td>\n",
       "      <td>SYMPTOMS INVOLVING RESPIRATORY SYSTEM AND OTHE...</td>\n",
       "      <td>DOCTORS OFFICE</td>\n",
       "      <td>74084</td>\n",
       "    </tr>\n",
       "    <tr>\n",
       "      <th>3</th>\n",
       "      <td>1</td>\n",
       "      <td>73880</td>\n",
       "      <td>ACUTE APPENDICITIS</td>\n",
       "      <td>INPATIENT HOSPITAL</td>\n",
       "      <td>74084</td>\n",
       "    </tr>\n",
       "    <tr>\n",
       "      <th>4</th>\n",
       "      <td>1</td>\n",
       "      <td>73880</td>\n",
       "      <td>DIABETES MELLITUS</td>\n",
       "      <td>INPATIENT HOSPITAL</td>\n",
       "      <td>74084</td>\n",
       "    </tr>\n",
       "  </tbody>\n",
       "</table>\n",
       "</div>\n",
       "      <button class=\"colab-df-convert\" onclick=\"convertToInteractive('df-d9aa8cbf-5025-491c-a13c-0edb7392ab9f')\"\n",
       "              title=\"Convert this dataframe to an interactive table.\"\n",
       "              style=\"display:none;\">\n",
       "        \n",
       "  <svg xmlns=\"http://www.w3.org/2000/svg\" height=\"24px\"viewBox=\"0 0 24 24\"\n",
       "       width=\"24px\">\n",
       "    <path d=\"M0 0h24v24H0V0z\" fill=\"none\"/>\n",
       "    <path d=\"M18.56 5.44l.94 2.06.94-2.06 2.06-.94-2.06-.94-.94-2.06-.94 2.06-2.06.94zm-11 1L8.5 8.5l.94-2.06 2.06-.94-2.06-.94L8.5 2.5l-.94 2.06-2.06.94zm10 10l.94 2.06.94-2.06 2.06-.94-2.06-.94-.94-2.06-.94 2.06-2.06.94z\"/><path d=\"M17.41 7.96l-1.37-1.37c-.4-.4-.92-.59-1.43-.59-.52 0-1.04.2-1.43.59L10.3 9.45l-7.72 7.72c-.78.78-.78 2.05 0 2.83L4 21.41c.39.39.9.59 1.41.59.51 0 1.02-.2 1.41-.59l7.78-7.78 2.81-2.81c.8-.78.8-2.07 0-2.86zM5.41 20L4 18.59l7.72-7.72 1.47 1.35L5.41 20z\"/>\n",
       "  </svg>\n",
       "      </button>\n",
       "      \n",
       "  <style>\n",
       "    .colab-df-container {\n",
       "      display:flex;\n",
       "      flex-wrap:wrap;\n",
       "      gap: 12px;\n",
       "    }\n",
       "\n",
       "    .colab-df-convert {\n",
       "      background-color: #E8F0FE;\n",
       "      border: none;\n",
       "      border-radius: 50%;\n",
       "      cursor: pointer;\n",
       "      display: none;\n",
       "      fill: #1967D2;\n",
       "      height: 32px;\n",
       "      padding: 0 0 0 0;\n",
       "      width: 32px;\n",
       "    }\n",
       "\n",
       "    .colab-df-convert:hover {\n",
       "      background-color: #E2EBFA;\n",
       "      box-shadow: 0px 1px 2px rgba(60, 64, 67, 0.3), 0px 1px 3px 1px rgba(60, 64, 67, 0.15);\n",
       "      fill: #174EA6;\n",
       "    }\n",
       "\n",
       "    [theme=dark] .colab-df-convert {\n",
       "      background-color: #3B4455;\n",
       "      fill: #D2E3FC;\n",
       "    }\n",
       "\n",
       "    [theme=dark] .colab-df-convert:hover {\n",
       "      background-color: #434B5C;\n",
       "      box-shadow: 0px 1px 3px 1px rgba(0, 0, 0, 0.15);\n",
       "      filter: drop-shadow(0px 1px 2px rgba(0, 0, 0, 0.3));\n",
       "      fill: #FFFFFF;\n",
       "    }\n",
       "  </style>\n",
       "\n",
       "      <script>\n",
       "        const buttonEl =\n",
       "          document.querySelector('#df-d9aa8cbf-5025-491c-a13c-0edb7392ab9f button.colab-df-convert');\n",
       "        buttonEl.style.display =\n",
       "          google.colab.kernel.accessAllowed ? 'block' : 'none';\n",
       "\n",
       "        async function convertToInteractive(key) {\n",
       "          const element = document.querySelector('#df-d9aa8cbf-5025-491c-a13c-0edb7392ab9f');\n",
       "          const dataTable =\n",
       "            await google.colab.kernel.invokeFunction('convertToInteractive',\n",
       "                                                     [key], {});\n",
       "          if (!dataTable) return;\n",
       "\n",
       "          const docLinkHtml = 'Like what you see? Visit the ' +\n",
       "            '<a target=\"_blank\" href=https://colab.research.google.com/notebooks/data_table.ipynb>data table notebook</a>'\n",
       "            + ' to learn more about interactive tables.';\n",
       "          element.innerHTML = '';\n",
       "          dataTable['output_type'] = 'display_data';\n",
       "          await google.colab.output.renderOutput(dataTable, element);\n",
       "          const docLink = document.createElement('div');\n",
       "          docLink.innerHTML = docLinkHtml;\n",
       "          element.appendChild(docLink);\n",
       "        }\n",
       "      </script>\n",
       "    </div>\n",
       "  </div>\n",
       "  "
      ],
      "text/plain": [
       "   PID  DAY_ID                               DX_GROUP_DESCRIPTION  \\\n",
       "0    1   73888                                    ANGINA PECTORIS   \n",
       "1    1   73888  MONONEURITIS OF UPPER LIMB AND MONONEURITIS MU...   \n",
       "2    1   73888  SYMPTOMS INVOLVING RESPIRATORY SYSTEM AND OTHE...   \n",
       "3    1   73880                                 ACUTE APPENDICITIS   \n",
       "4    1   73880                                  DIABETES MELLITUS   \n",
       "\n",
       "     SERVICE_LOCATION  OP_DATE  \n",
       "0      DOCTORS OFFICE    74084  \n",
       "1      DOCTORS OFFICE    74084  \n",
       "2      DOCTORS OFFICE    74084  \n",
       "3  INPATIENT HOSPITAL    74084  \n",
       "4  INPATIENT HOSPITAL    74084  "
      ]
     },
     "execution_count": 326,
     "metadata": {},
     "output_type": "execute_result"
    }
   ],
   "source": [
    "import pandas as pd\n",
    "\n",
    "COLUMN_PATIENT = 'PID'\n",
    "COLUMN_DATE = 'DAY_ID'\n",
    "COLUMN_DIAGNOSIS = 'DX_GROUP_DESCRIPTION'\n",
    "COLUMN_SERVICE = 'SERVICE_LOCATION'\n",
    "\n",
    "RawData = pd.read_csv(os.path.join(UPLOAD_ROOT, DATA_FILE), sep='\\t')\n",
    "assert COLUMN_PATIENT in RawData.columns\n",
    "assert COLUMN_DATE in RawData.columns\n",
    "assert COLUMN_DIAGNOSIS in RawData.columns\n",
    "assert COLUMN_SERVICE in RawData.columns\n",
    "RawData.head()"
   ]
  },
  {
   "cell_type": "markdown",
   "metadata": {
    "id": "lXpxTpWLeaPo"
   },
   "source": [
    "Tally the occurrence of different diagnosis in the raw dataset."
   ]
  },
  {
   "cell_type": "code",
   "execution_count": null,
   "metadata": {
    "colab": {
     "base_uri": "https://localhost:8080/",
     "height": 206
    },
    "id": "IC2andXpCjPj",
    "outputId": "82ba1bbf-5a95-437d-96f6-af642ae0cd04"
   },
   "outputs": [
    {
     "data": {
      "text/html": [
       "\n",
       "  <div id=\"df-522e32f0-47d9-46bc-a6ec-8e17654c83b2\">\n",
       "    <div class=\"colab-df-container\">\n",
       "      <div>\n",
       "<style scoped>\n",
       "    .dataframe tbody tr th:only-of-type {\n",
       "        vertical-align: middle;\n",
       "    }\n",
       "\n",
       "    .dataframe tbody tr th {\n",
       "        vertical-align: top;\n",
       "    }\n",
       "\n",
       "    .dataframe thead th {\n",
       "        text-align: right;\n",
       "    }\n",
       "</style>\n",
       "<table border=\"1\" class=\"dataframe\">\n",
       "  <thead>\n",
       "    <tr style=\"text-align: right;\">\n",
       "      <th></th>\n",
       "      <th>DX_GROUP_DESCRIPTION</th>\n",
       "      <th>COUNT</th>\n",
       "    </tr>\n",
       "  </thead>\n",
       "  <tbody>\n",
       "    <tr>\n",
       "      <th>0</th>\n",
       "      <td>CARDIAC DYSRHYTHMIAS</td>\n",
       "      <td>35522</td>\n",
       "    </tr>\n",
       "    <tr>\n",
       "      <th>1</th>\n",
       "      <td>ESSENTIAL HYPERTENSION</td>\n",
       "      <td>32998</td>\n",
       "    </tr>\n",
       "    <tr>\n",
       "      <th>2</th>\n",
       "      <td>HEART FAILURE</td>\n",
       "      <td>32117</td>\n",
       "    </tr>\n",
       "    <tr>\n",
       "      <th>3</th>\n",
       "      <td>DIABETES MELLITUS</td>\n",
       "      <td>30376</td>\n",
       "    </tr>\n",
       "    <tr>\n",
       "      <th>4</th>\n",
       "      <td>DISORDERS OF LIPOID METABOLISM</td>\n",
       "      <td>20157</td>\n",
       "    </tr>\n",
       "  </tbody>\n",
       "</table>\n",
       "</div>\n",
       "      <button class=\"colab-df-convert\" onclick=\"convertToInteractive('df-522e32f0-47d9-46bc-a6ec-8e17654c83b2')\"\n",
       "              title=\"Convert this dataframe to an interactive table.\"\n",
       "              style=\"display:none;\">\n",
       "        \n",
       "  <svg xmlns=\"http://www.w3.org/2000/svg\" height=\"24px\"viewBox=\"0 0 24 24\"\n",
       "       width=\"24px\">\n",
       "    <path d=\"M0 0h24v24H0V0z\" fill=\"none\"/>\n",
       "    <path d=\"M18.56 5.44l.94 2.06.94-2.06 2.06-.94-2.06-.94-.94-2.06-.94 2.06-2.06.94zm-11 1L8.5 8.5l.94-2.06 2.06-.94-2.06-.94L8.5 2.5l-.94 2.06-2.06.94zm10 10l.94 2.06.94-2.06 2.06-.94-2.06-.94-.94-2.06-.94 2.06-2.06.94z\"/><path d=\"M17.41 7.96l-1.37-1.37c-.4-.4-.92-.59-1.43-.59-.52 0-1.04.2-1.43.59L10.3 9.45l-7.72 7.72c-.78.78-.78 2.05 0 2.83L4 21.41c.39.39.9.59 1.41.59.51 0 1.02-.2 1.41-.59l7.78-7.78 2.81-2.81c.8-.78.8-2.07 0-2.86zM5.41 20L4 18.59l7.72-7.72 1.47 1.35L5.41 20z\"/>\n",
       "  </svg>\n",
       "      </button>\n",
       "      \n",
       "  <style>\n",
       "    .colab-df-container {\n",
       "      display:flex;\n",
       "      flex-wrap:wrap;\n",
       "      gap: 12px;\n",
       "    }\n",
       "\n",
       "    .colab-df-convert {\n",
       "      background-color: #E8F0FE;\n",
       "      border: none;\n",
       "      border-radius: 50%;\n",
       "      cursor: pointer;\n",
       "      display: none;\n",
       "      fill: #1967D2;\n",
       "      height: 32px;\n",
       "      padding: 0 0 0 0;\n",
       "      width: 32px;\n",
       "    }\n",
       "\n",
       "    .colab-df-convert:hover {\n",
       "      background-color: #E2EBFA;\n",
       "      box-shadow: 0px 1px 2px rgba(60, 64, 67, 0.3), 0px 1px 3px 1px rgba(60, 64, 67, 0.15);\n",
       "      fill: #174EA6;\n",
       "    }\n",
       "\n",
       "    [theme=dark] .colab-df-convert {\n",
       "      background-color: #3B4455;\n",
       "      fill: #D2E3FC;\n",
       "    }\n",
       "\n",
       "    [theme=dark] .colab-df-convert:hover {\n",
       "      background-color: #434B5C;\n",
       "      box-shadow: 0px 1px 3px 1px rgba(0, 0, 0, 0.15);\n",
       "      filter: drop-shadow(0px 1px 2px rgba(0, 0, 0, 0.3));\n",
       "      fill: #FFFFFF;\n",
       "    }\n",
       "  </style>\n",
       "\n",
       "      <script>\n",
       "        const buttonEl =\n",
       "          document.querySelector('#df-522e32f0-47d9-46bc-a6ec-8e17654c83b2 button.colab-df-convert');\n",
       "        buttonEl.style.display =\n",
       "          google.colab.kernel.accessAllowed ? 'block' : 'none';\n",
       "\n",
       "        async function convertToInteractive(key) {\n",
       "          const element = document.querySelector('#df-522e32f0-47d9-46bc-a6ec-8e17654c83b2');\n",
       "          const dataTable =\n",
       "            await google.colab.kernel.invokeFunction('convertToInteractive',\n",
       "                                                     [key], {});\n",
       "          if (!dataTable) return;\n",
       "\n",
       "          const docLinkHtml = 'Like what you see? Visit the ' +\n",
       "            '<a target=\"_blank\" href=https://colab.research.google.com/notebooks/data_table.ipynb>data table notebook</a>'\n",
       "            + ' to learn more about interactive tables.';\n",
       "          element.innerHTML = '';\n",
       "          dataTable['output_type'] = 'display_data';\n",
       "          await google.colab.output.renderOutput(dataTable, element);\n",
       "          const docLink = document.createElement('div');\n",
       "          docLink.innerHTML = docLinkHtml;\n",
       "          element.appendChild(docLink);\n",
       "        }\n",
       "      </script>\n",
       "    </div>\n",
       "  </div>\n",
       "  "
      ],
      "text/plain": [
       "             DX_GROUP_DESCRIPTION  COUNT\n",
       "0            CARDIAC DYSRHYTHMIAS  35522\n",
       "1          ESSENTIAL HYPERTENSION  32998\n",
       "2                   HEART FAILURE  32117\n",
       "3               DIABETES MELLITUS  30376\n",
       "4  DISORDERS OF LIPOID METABOLISM  20157"
      ]
     },
     "execution_count": 327,
     "metadata": {},
     "output_type": "execute_result"
    }
   ],
   "source": [
    "DiagnosisTally = RawData.groupby(COLUMN_DIAGNOSIS).size().to_frame('COUNT').sort_values(by='COUNT', ascending=False).reset_index()\n",
    "DiagnosisTally.head()"
   ]
  },
  {
   "cell_type": "markdown",
   "metadata": {
    "id": "gDRQPmophy17"
   },
   "source": [
    "Diagnosis description will be used as vocab list. The number of distinct diagnosis is huge."
   ]
  },
  {
   "cell_type": "code",
   "execution_count": null,
   "metadata": {
    "colab": {
     "base_uri": "https://localhost:8080/"
    },
    "id": "ToEC6VpWh7lD",
    "outputId": "81f7ed47-fddb-4fe2-ad99-46b8e06ce4fd"
   },
   "outputs": [
    {
     "data": {
      "text/plain": [
       "1412"
      ]
     },
     "execution_count": 328,
     "metadata": {},
     "output_type": "execute_result"
    }
   ],
   "source": [
    "DiagnosisTally.shape[0]"
   ]
  },
  {
   "cell_type": "markdown",
   "metadata": {
    "id": "EXRXHgWEgKFp"
   },
   "source": [
    "Remove diagnosis words with rare occurrence to optimize training and reduce noise. The vocab list is now much smaller."
   ]
  },
  {
   "cell_type": "code",
   "execution_count": null,
   "metadata": {
    "colab": {
     "base_uri": "https://localhost:8080/"
    },
    "id": "ZG9UnaHxgbhw",
    "outputId": "78e64a33-8dbf-462a-fb44-dda6708d63c5"
   },
   "outputs": [
    {
     "data": {
      "text/plain": [
       "490"
      ]
     },
     "execution_count": 329,
     "metadata": {},
     "output_type": "execute_result"
    }
   ],
   "source": [
    "RARE_OCCURRENCE = 100\n",
    "\n",
    "DiagnosisTally = DiagnosisTally[DiagnosisTally['COUNT'] > RARE_OCCURRENCE]\n",
    "DiagnosisTally = DiagnosisTally.sort_values(by='COUNT', ascending=False)\n",
    "DiagnosisTally.shape[0]"
   ]
  },
  {
   "cell_type": "markdown",
   "metadata": {
    "id": "ULVZ_QqokzGy"
   },
   "source": [
    "Constructing a word to index dictionary `Vocab`."
   ]
  },
  {
   "cell_type": "code",
   "execution_count": null,
   "metadata": {
    "colab": {
     "base_uri": "https://localhost:8080/",
     "height": 206
    },
    "id": "iXl2AsJOmEtY",
    "outputId": "dd14982b-f849-4da4-e880-75ea9325aff8"
   },
   "outputs": [
    {
     "data": {
      "text/html": [
       "\n",
       "  <div id=\"df-f6fa2159-fae2-4854-b08f-c04bfa55852f\">\n",
       "    <div class=\"colab-df-container\">\n",
       "      <div>\n",
       "<style scoped>\n",
       "    .dataframe tbody tr th:only-of-type {\n",
       "        vertical-align: middle;\n",
       "    }\n",
       "\n",
       "    .dataframe tbody tr th {\n",
       "        vertical-align: top;\n",
       "    }\n",
       "\n",
       "    .dataframe thead th {\n",
       "        text-align: right;\n",
       "    }\n",
       "</style>\n",
       "<table border=\"1\" class=\"dataframe\">\n",
       "  <thead>\n",
       "    <tr style=\"text-align: right;\">\n",
       "      <th></th>\n",
       "      <th>index</th>\n",
       "      <th>DX_GROUP_DESCRIPTION</th>\n",
       "    </tr>\n",
       "  </thead>\n",
       "  <tbody>\n",
       "    <tr>\n",
       "      <th>0</th>\n",
       "      <td>0</td>\n",
       "      <td>CARDIAC DYSRHYTHMIAS</td>\n",
       "    </tr>\n",
       "    <tr>\n",
       "      <th>1</th>\n",
       "      <td>1</td>\n",
       "      <td>ESSENTIAL HYPERTENSION</td>\n",
       "    </tr>\n",
       "    <tr>\n",
       "      <th>2</th>\n",
       "      <td>2</td>\n",
       "      <td>HEART FAILURE</td>\n",
       "    </tr>\n",
       "    <tr>\n",
       "      <th>3</th>\n",
       "      <td>3</td>\n",
       "      <td>DIABETES MELLITUS</td>\n",
       "    </tr>\n",
       "    <tr>\n",
       "      <th>4</th>\n",
       "      <td>4</td>\n",
       "      <td>DISORDERS OF LIPOID METABOLISM</td>\n",
       "    </tr>\n",
       "  </tbody>\n",
       "</table>\n",
       "</div>\n",
       "      <button class=\"colab-df-convert\" onclick=\"convertToInteractive('df-f6fa2159-fae2-4854-b08f-c04bfa55852f')\"\n",
       "              title=\"Convert this dataframe to an interactive table.\"\n",
       "              style=\"display:none;\">\n",
       "        \n",
       "  <svg xmlns=\"http://www.w3.org/2000/svg\" height=\"24px\"viewBox=\"0 0 24 24\"\n",
       "       width=\"24px\">\n",
       "    <path d=\"M0 0h24v24H0V0z\" fill=\"none\"/>\n",
       "    <path d=\"M18.56 5.44l.94 2.06.94-2.06 2.06-.94-2.06-.94-.94-2.06-.94 2.06-2.06.94zm-11 1L8.5 8.5l.94-2.06 2.06-.94-2.06-.94L8.5 2.5l-.94 2.06-2.06.94zm10 10l.94 2.06.94-2.06 2.06-.94-2.06-.94-.94-2.06-.94 2.06-2.06.94z\"/><path d=\"M17.41 7.96l-1.37-1.37c-.4-.4-.92-.59-1.43-.59-.52 0-1.04.2-1.43.59L10.3 9.45l-7.72 7.72c-.78.78-.78 2.05 0 2.83L4 21.41c.39.39.9.59 1.41.59.51 0 1.02-.2 1.41-.59l7.78-7.78 2.81-2.81c.8-.78.8-2.07 0-2.86zM5.41 20L4 18.59l7.72-7.72 1.47 1.35L5.41 20z\"/>\n",
       "  </svg>\n",
       "      </button>\n",
       "      \n",
       "  <style>\n",
       "    .colab-df-container {\n",
       "      display:flex;\n",
       "      flex-wrap:wrap;\n",
       "      gap: 12px;\n",
       "    }\n",
       "\n",
       "    .colab-df-convert {\n",
       "      background-color: #E8F0FE;\n",
       "      border: none;\n",
       "      border-radius: 50%;\n",
       "      cursor: pointer;\n",
       "      display: none;\n",
       "      fill: #1967D2;\n",
       "      height: 32px;\n",
       "      padding: 0 0 0 0;\n",
       "      width: 32px;\n",
       "    }\n",
       "\n",
       "    .colab-df-convert:hover {\n",
       "      background-color: #E2EBFA;\n",
       "      box-shadow: 0px 1px 2px rgba(60, 64, 67, 0.3), 0px 1px 3px 1px rgba(60, 64, 67, 0.15);\n",
       "      fill: #174EA6;\n",
       "    }\n",
       "\n",
       "    [theme=dark] .colab-df-convert {\n",
       "      background-color: #3B4455;\n",
       "      fill: #D2E3FC;\n",
       "    }\n",
       "\n",
       "    [theme=dark] .colab-df-convert:hover {\n",
       "      background-color: #434B5C;\n",
       "      box-shadow: 0px 1px 3px 1px rgba(0, 0, 0, 0.15);\n",
       "      filter: drop-shadow(0px 1px 2px rgba(0, 0, 0, 0.3));\n",
       "      fill: #FFFFFF;\n",
       "    }\n",
       "  </style>\n",
       "\n",
       "      <script>\n",
       "        const buttonEl =\n",
       "          document.querySelector('#df-f6fa2159-fae2-4854-b08f-c04bfa55852f button.colab-df-convert');\n",
       "        buttonEl.style.display =\n",
       "          google.colab.kernel.accessAllowed ? 'block' : 'none';\n",
       "\n",
       "        async function convertToInteractive(key) {\n",
       "          const element = document.querySelector('#df-f6fa2159-fae2-4854-b08f-c04bfa55852f');\n",
       "          const dataTable =\n",
       "            await google.colab.kernel.invokeFunction('convertToInteractive',\n",
       "                                                     [key], {});\n",
       "          if (!dataTable) return;\n",
       "\n",
       "          const docLinkHtml = 'Like what you see? Visit the ' +\n",
       "            '<a target=\"_blank\" href=https://colab.research.google.com/notebooks/data_table.ipynb>data table notebook</a>'\n",
       "            + ' to learn more about interactive tables.';\n",
       "          element.innerHTML = '';\n",
       "          dataTable['output_type'] = 'display_data';\n",
       "          await google.colab.output.renderOutput(dataTable, element);\n",
       "          const docLink = document.createElement('div');\n",
       "          docLink.innerHTML = docLinkHtml;\n",
       "          element.appendChild(docLink);\n",
       "        }\n",
       "      </script>\n",
       "    </div>\n",
       "  </div>\n",
       "  "
      ],
      "text/plain": [
       "   index            DX_GROUP_DESCRIPTION\n",
       "0      0            CARDIAC DYSRHYTHMIAS\n",
       "1      1          ESSENTIAL HYPERTENSION\n",
       "2      2                   HEART FAILURE\n",
       "3      3               DIABETES MELLITUS\n",
       "4      4  DISORDERS OF LIPOID METABOLISM"
      ]
     },
     "execution_count": 330,
     "metadata": {},
     "output_type": "execute_result"
    }
   ],
   "source": [
    "ARTIFACT_VOCAB = 'Artifact_Vocab.csv'\n",
    "\n",
    "if not os.path.isfile(os.path.join(UPLOAD_ROOT, ARTIFACT_VOCAB)):\n",
    "  Vocab = DiagnosisTally.drop(columns=['COUNT'])\n",
    "  Vocab = Vocab.reset_index()\n",
    "  Vocab['index'] = Vocab['index']\n",
    "  Vocab.to_csv(ARTIFACT_VOCAB, index=False)\n",
    "\n",
    "Vocab = pd.read_csv(os.path.join(UPLOAD_ROOT, ARTIFACT_VOCAB))\n",
    "assert 'index' in Vocab\n",
    "assert COLUMN_DIAGNOSIS in Vocab\n",
    "Vocab.head()"
   ]
  },
  {
   "cell_type": "markdown",
   "metadata": {
    "id": "yJ6X-17U_gm6"
   },
   "source": [
    "Encode diagnosis data using `Vocab`."
   ]
  },
  {
   "cell_type": "code",
   "execution_count": null,
   "metadata": {
    "colab": {
     "base_uri": "https://localhost:8080/",
     "height": 206
    },
    "id": "-rDfLIs7_kP7",
    "outputId": "211a1ae6-5b6e-43eb-998a-4c80ab799aea"
   },
   "outputs": [
    {
     "data": {
      "text/html": [
       "\n",
       "  <div id=\"df-53a4a4e0-4c72-4d7e-8cd5-8ead6ca3fcf1\">\n",
       "    <div class=\"colab-df-container\">\n",
       "      <div>\n",
       "<style scoped>\n",
       "    .dataframe tbody tr th:only-of-type {\n",
       "        vertical-align: middle;\n",
       "    }\n",
       "\n",
       "    .dataframe tbody tr th {\n",
       "        vertical-align: top;\n",
       "    }\n",
       "\n",
       "    .dataframe thead th {\n",
       "        text-align: right;\n",
       "    }\n",
       "</style>\n",
       "<table border=\"1\" class=\"dataframe\">\n",
       "  <thead>\n",
       "    <tr style=\"text-align: right;\">\n",
       "      <th></th>\n",
       "      <th>PID</th>\n",
       "      <th>DAY_ID</th>\n",
       "      <th>DX_GROUP_DESCRIPTION</th>\n",
       "    </tr>\n",
       "  </thead>\n",
       "  <tbody>\n",
       "    <tr>\n",
       "      <th>0</th>\n",
       "      <td>1</td>\n",
       "      <td>73546</td>\n",
       "      <td>[26]</td>\n",
       "    </tr>\n",
       "    <tr>\n",
       "      <th>1</th>\n",
       "      <td>1</td>\n",
       "      <td>73564</td>\n",
       "      <td>[12, 5]</td>\n",
       "    </tr>\n",
       "    <tr>\n",
       "      <th>2</th>\n",
       "      <td>1</td>\n",
       "      <td>73571</td>\n",
       "      <td>[16, 51, 12, 85]</td>\n",
       "    </tr>\n",
       "    <tr>\n",
       "      <th>3</th>\n",
       "      <td>1</td>\n",
       "      <td>73586</td>\n",
       "      <td>[3, 4, 7, 18, 479]</td>\n",
       "    </tr>\n",
       "    <tr>\n",
       "      <th>4</th>\n",
       "      <td>1</td>\n",
       "      <td>73617</td>\n",
       "      <td>[18]</td>\n",
       "    </tr>\n",
       "  </tbody>\n",
       "</table>\n",
       "</div>\n",
       "      <button class=\"colab-df-convert\" onclick=\"convertToInteractive('df-53a4a4e0-4c72-4d7e-8cd5-8ead6ca3fcf1')\"\n",
       "              title=\"Convert this dataframe to an interactive table.\"\n",
       "              style=\"display:none;\">\n",
       "        \n",
       "  <svg xmlns=\"http://www.w3.org/2000/svg\" height=\"24px\"viewBox=\"0 0 24 24\"\n",
       "       width=\"24px\">\n",
       "    <path d=\"M0 0h24v24H0V0z\" fill=\"none\"/>\n",
       "    <path d=\"M18.56 5.44l.94 2.06.94-2.06 2.06-.94-2.06-.94-.94-2.06-.94 2.06-2.06.94zm-11 1L8.5 8.5l.94-2.06 2.06-.94-2.06-.94L8.5 2.5l-.94 2.06-2.06.94zm10 10l.94 2.06.94-2.06 2.06-.94-2.06-.94-.94-2.06-.94 2.06-2.06.94z\"/><path d=\"M17.41 7.96l-1.37-1.37c-.4-.4-.92-.59-1.43-.59-.52 0-1.04.2-1.43.59L10.3 9.45l-7.72 7.72c-.78.78-.78 2.05 0 2.83L4 21.41c.39.39.9.59 1.41.59.51 0 1.02-.2 1.41-.59l7.78-7.78 2.81-2.81c.8-.78.8-2.07 0-2.86zM5.41 20L4 18.59l7.72-7.72 1.47 1.35L5.41 20z\"/>\n",
       "  </svg>\n",
       "      </button>\n",
       "      \n",
       "  <style>\n",
       "    .colab-df-container {\n",
       "      display:flex;\n",
       "      flex-wrap:wrap;\n",
       "      gap: 12px;\n",
       "    }\n",
       "\n",
       "    .colab-df-convert {\n",
       "      background-color: #E8F0FE;\n",
       "      border: none;\n",
       "      border-radius: 50%;\n",
       "      cursor: pointer;\n",
       "      display: none;\n",
       "      fill: #1967D2;\n",
       "      height: 32px;\n",
       "      padding: 0 0 0 0;\n",
       "      width: 32px;\n",
       "    }\n",
       "\n",
       "    .colab-df-convert:hover {\n",
       "      background-color: #E2EBFA;\n",
       "      box-shadow: 0px 1px 2px rgba(60, 64, 67, 0.3), 0px 1px 3px 1px rgba(60, 64, 67, 0.15);\n",
       "      fill: #174EA6;\n",
       "    }\n",
       "\n",
       "    [theme=dark] .colab-df-convert {\n",
       "      background-color: #3B4455;\n",
       "      fill: #D2E3FC;\n",
       "    }\n",
       "\n",
       "    [theme=dark] .colab-df-convert:hover {\n",
       "      background-color: #434B5C;\n",
       "      box-shadow: 0px 1px 3px 1px rgba(0, 0, 0, 0.15);\n",
       "      filter: drop-shadow(0px 1px 2px rgba(0, 0, 0, 0.3));\n",
       "      fill: #FFFFFF;\n",
       "    }\n",
       "  </style>\n",
       "\n",
       "      <script>\n",
       "        const buttonEl =\n",
       "          document.querySelector('#df-53a4a4e0-4c72-4d7e-8cd5-8ead6ca3fcf1 button.colab-df-convert');\n",
       "        buttonEl.style.display =\n",
       "          google.colab.kernel.accessAllowed ? 'block' : 'none';\n",
       "\n",
       "        async function convertToInteractive(key) {\n",
       "          const element = document.querySelector('#df-53a4a4e0-4c72-4d7e-8cd5-8ead6ca3fcf1');\n",
       "          const dataTable =\n",
       "            await google.colab.kernel.invokeFunction('convertToInteractive',\n",
       "                                                     [key], {});\n",
       "          if (!dataTable) return;\n",
       "\n",
       "          const docLinkHtml = 'Like what you see? Visit the ' +\n",
       "            '<a target=\"_blank\" href=https://colab.research.google.com/notebooks/data_table.ipynb>data table notebook</a>'\n",
       "            + ' to learn more about interactive tables.';\n",
       "          element.innerHTML = '';\n",
       "          dataTable['output_type'] = 'display_data';\n",
       "          await google.colab.output.renderOutput(dataTable, element);\n",
       "          const docLink = document.createElement('div');\n",
       "          docLink.innerHTML = docLinkHtml;\n",
       "          element.appendChild(docLink);\n",
       "        }\n",
       "      </script>\n",
       "    </div>\n",
       "  </div>\n",
       "  "
      ],
      "text/plain": [
       "   PID  DAY_ID DX_GROUP_DESCRIPTION\n",
       "0    1   73546                 [26]\n",
       "1    1   73564              [12, 5]\n",
       "2    1   73571     [16, 51, 12, 85]\n",
       "3    1   73586   [3, 4, 7, 18, 479]\n",
       "4    1   73617                 [18]"
      ]
     },
     "execution_count": 331,
     "metadata": {},
     "output_type": "execute_result"
    }
   ],
   "source": [
    "import ast\n",
    "\n",
    "ARTIFACT_ENCODED_RAW_DATA = 'Artifact_EncodedRawData.csv'\n",
    "\n",
    "if not os.path.isfile(os.path.join(UPLOAD_ROOT, ARTIFACT_ENCODED_RAW_DATA)):\n",
    "  EncodedRawData = RawData.join(other=Vocab.set_index(COLUMN_DIAGNOSIS), on=COLUMN_DIAGNOSIS, how='inner')\n",
    "  EncodedRawData = EncodedRawData.groupby([COLUMN_PATIENT, COLUMN_DATE])['index'].apply(lambda x: list(set(list(x)))).reset_index()\n",
    "  EncodedRawData = EncodedRawData.rename(columns={'index': COLUMN_DIAGNOSIS})\n",
    "  EncodedRawData.to_csv(ARTIFACT_ENCODED_RAW_DATA, index=False)\n",
    "\n",
    "EncodedRawData = pd.read_csv(os.path.join(UPLOAD_ROOT, ARTIFACT_ENCODED_RAW_DATA), converters={COLUMN_DIAGNOSIS: ast.literal_eval})\n",
    "assert COLUMN_PATIENT in EncodedRawData\n",
    "assert COLUMN_DATE in EncodedRawData\n",
    "assert COLUMN_DIAGNOSIS in EncodedRawData\n",
    "EncodedRawData.head()"
   ]
  },
  {
   "cell_type": "markdown",
   "metadata": {
    "id": "h8o4uVwA6IUc"
   },
   "source": [
    "Extract hospitalization events from raw data."
   ]
  },
  {
   "cell_type": "code",
   "execution_count": null,
   "metadata": {
    "colab": {
     "base_uri": "https://localhost:8080/",
     "height": 206
    },
    "id": "Xe9sfpQJ6Mpj",
    "outputId": "37e2cc0a-0ce7-4764-c95f-554ff7b83e83"
   },
   "outputs": [
    {
     "data": {
      "text/html": [
       "\n",
       "  <div id=\"df-3631c011-3122-42dd-82da-1a6b3c4d3039\">\n",
       "    <div class=\"colab-df-container\">\n",
       "      <div>\n",
       "<style scoped>\n",
       "    .dataframe tbody tr th:only-of-type {\n",
       "        vertical-align: middle;\n",
       "    }\n",
       "\n",
       "    .dataframe tbody tr th {\n",
       "        vertical-align: top;\n",
       "    }\n",
       "\n",
       "    .dataframe thead th {\n",
       "        text-align: right;\n",
       "    }\n",
       "</style>\n",
       "<table border=\"1\" class=\"dataframe\">\n",
       "  <thead>\n",
       "    <tr style=\"text-align: right;\">\n",
       "      <th></th>\n",
       "      <th>PID</th>\n",
       "      <th>DAY_ID</th>\n",
       "    </tr>\n",
       "  </thead>\n",
       "  <tbody>\n",
       "    <tr>\n",
       "      <th>0</th>\n",
       "      <td>1</td>\n",
       "      <td>73874</td>\n",
       "    </tr>\n",
       "    <tr>\n",
       "      <th>1</th>\n",
       "      <td>1</td>\n",
       "      <td>73879</td>\n",
       "    </tr>\n",
       "    <tr>\n",
       "      <th>2</th>\n",
       "      <td>1</td>\n",
       "      <td>73880</td>\n",
       "    </tr>\n",
       "    <tr>\n",
       "      <th>3</th>\n",
       "      <td>1</td>\n",
       "      <td>74043</td>\n",
       "    </tr>\n",
       "    <tr>\n",
       "      <th>4</th>\n",
       "      <td>2</td>\n",
       "      <td>74195</td>\n",
       "    </tr>\n",
       "  </tbody>\n",
       "</table>\n",
       "</div>\n",
       "      <button class=\"colab-df-convert\" onclick=\"convertToInteractive('df-3631c011-3122-42dd-82da-1a6b3c4d3039')\"\n",
       "              title=\"Convert this dataframe to an interactive table.\"\n",
       "              style=\"display:none;\">\n",
       "        \n",
       "  <svg xmlns=\"http://www.w3.org/2000/svg\" height=\"24px\"viewBox=\"0 0 24 24\"\n",
       "       width=\"24px\">\n",
       "    <path d=\"M0 0h24v24H0V0z\" fill=\"none\"/>\n",
       "    <path d=\"M18.56 5.44l.94 2.06.94-2.06 2.06-.94-2.06-.94-.94-2.06-.94 2.06-2.06.94zm-11 1L8.5 8.5l.94-2.06 2.06-.94-2.06-.94L8.5 2.5l-.94 2.06-2.06.94zm10 10l.94 2.06.94-2.06 2.06-.94-2.06-.94-.94-2.06-.94 2.06-2.06.94z\"/><path d=\"M17.41 7.96l-1.37-1.37c-.4-.4-.92-.59-1.43-.59-.52 0-1.04.2-1.43.59L10.3 9.45l-7.72 7.72c-.78.78-.78 2.05 0 2.83L4 21.41c.39.39.9.59 1.41.59.51 0 1.02-.2 1.41-.59l7.78-7.78 2.81-2.81c.8-.78.8-2.07 0-2.86zM5.41 20L4 18.59l7.72-7.72 1.47 1.35L5.41 20z\"/>\n",
       "  </svg>\n",
       "      </button>\n",
       "      \n",
       "  <style>\n",
       "    .colab-df-container {\n",
       "      display:flex;\n",
       "      flex-wrap:wrap;\n",
       "      gap: 12px;\n",
       "    }\n",
       "\n",
       "    .colab-df-convert {\n",
       "      background-color: #E8F0FE;\n",
       "      border: none;\n",
       "      border-radius: 50%;\n",
       "      cursor: pointer;\n",
       "      display: none;\n",
       "      fill: #1967D2;\n",
       "      height: 32px;\n",
       "      padding: 0 0 0 0;\n",
       "      width: 32px;\n",
       "    }\n",
       "\n",
       "    .colab-df-convert:hover {\n",
       "      background-color: #E2EBFA;\n",
       "      box-shadow: 0px 1px 2px rgba(60, 64, 67, 0.3), 0px 1px 3px 1px rgba(60, 64, 67, 0.15);\n",
       "      fill: #174EA6;\n",
       "    }\n",
       "\n",
       "    [theme=dark] .colab-df-convert {\n",
       "      background-color: #3B4455;\n",
       "      fill: #D2E3FC;\n",
       "    }\n",
       "\n",
       "    [theme=dark] .colab-df-convert:hover {\n",
       "      background-color: #434B5C;\n",
       "      box-shadow: 0px 1px 3px 1px rgba(0, 0, 0, 0.15);\n",
       "      filter: drop-shadow(0px 1px 2px rgba(0, 0, 0, 0.3));\n",
       "      fill: #FFFFFF;\n",
       "    }\n",
       "  </style>\n",
       "\n",
       "      <script>\n",
       "        const buttonEl =\n",
       "          document.querySelector('#df-3631c011-3122-42dd-82da-1a6b3c4d3039 button.colab-df-convert');\n",
       "        buttonEl.style.display =\n",
       "          google.colab.kernel.accessAllowed ? 'block' : 'none';\n",
       "\n",
       "        async function convertToInteractive(key) {\n",
       "          const element = document.querySelector('#df-3631c011-3122-42dd-82da-1a6b3c4d3039');\n",
       "          const dataTable =\n",
       "            await google.colab.kernel.invokeFunction('convertToInteractive',\n",
       "                                                     [key], {});\n",
       "          if (!dataTable) return;\n",
       "\n",
       "          const docLinkHtml = 'Like what you see? Visit the ' +\n",
       "            '<a target=\"_blank\" href=https://colab.research.google.com/notebooks/data_table.ipynb>data table notebook</a>'\n",
       "            + ' to learn more about interactive tables.';\n",
       "          element.innerHTML = '';\n",
       "          dataTable['output_type'] = 'display_data';\n",
       "          await google.colab.output.renderOutput(dataTable, element);\n",
       "          const docLink = document.createElement('div');\n",
       "          docLink.innerHTML = docLinkHtml;\n",
       "          element.appendChild(docLink);\n",
       "        }\n",
       "      </script>\n",
       "    </div>\n",
       "  </div>\n",
       "  "
      ],
      "text/plain": [
       "   PID  DAY_ID\n",
       "0    1   73874\n",
       "1    1   73879\n",
       "2    1   73880\n",
       "3    1   74043\n",
       "4    2   74195"
      ]
     },
     "execution_count": 332,
     "metadata": {},
     "output_type": "execute_result"
    }
   ],
   "source": [
    "SERVICE_HOSPITALIZATION = 'INPATIENT HOSPITAL'\n",
    "\n",
    "HospitalizationEvents = RawData[RawData[COLUMN_SERVICE] == SERVICE_HOSPITALIZATION]\n",
    "HospitalizationEvents = HospitalizationEvents.drop(columns=[COLUMN_SERVICE])\n",
    "HospitalizationEvents = HospitalizationEvents.groupby([COLUMN_PATIENT, COLUMN_DATE]).size().to_frame('DIAGNOSIS_COUNT').reset_index()\n",
    "HospitalizationEvents = HospitalizationEvents.drop(columns='DIAGNOSIS_COUNT')\n",
    "HospitalizationEvents.head()"
   ]
  },
  {
   "cell_type": "markdown",
   "metadata": {
    "id": "80VT88nSsOqg"
   },
   "source": [
    "For every patients' event, identify if there exists a readmission within 30 days. Build a readmission ground truth dataset."
   ]
  },
  {
   "cell_type": "code",
   "execution_count": null,
   "metadata": {
    "colab": {
     "base_uri": "https://localhost:8080/",
     "height": 206
    },
    "id": "U3eRtUOOsb6d",
    "outputId": "1b3dfa01-9c00-49d8-906a-49b4576a6cce"
   },
   "outputs": [
    {
     "data": {
      "text/html": [
       "\n",
       "  <div id=\"df-c1618bf4-5e69-47a7-8dce-998704895b6e\">\n",
       "    <div class=\"colab-df-container\">\n",
       "      <div>\n",
       "<style scoped>\n",
       "    .dataframe tbody tr th:only-of-type {\n",
       "        vertical-align: middle;\n",
       "    }\n",
       "\n",
       "    .dataframe tbody tr th {\n",
       "        vertical-align: top;\n",
       "    }\n",
       "\n",
       "    .dataframe thead th {\n",
       "        text-align: right;\n",
       "    }\n",
       "</style>\n",
       "<table border=\"1\" class=\"dataframe\">\n",
       "  <thead>\n",
       "    <tr style=\"text-align: right;\">\n",
       "      <th></th>\n",
       "      <th>PID</th>\n",
       "      <th>DAY_ID</th>\n",
       "      <th>DX_GROUP_DESCRIPTION</th>\n",
       "      <th>READMISSION</th>\n",
       "    </tr>\n",
       "  </thead>\n",
       "  <tbody>\n",
       "    <tr>\n",
       "      <th>0</th>\n",
       "      <td>1</td>\n",
       "      <td>73546</td>\n",
       "      <td>[26]</td>\n",
       "      <td>0</td>\n",
       "    </tr>\n",
       "    <tr>\n",
       "      <th>1</th>\n",
       "      <td>1</td>\n",
       "      <td>73564</td>\n",
       "      <td>[12, 5]</td>\n",
       "      <td>0</td>\n",
       "    </tr>\n",
       "    <tr>\n",
       "      <th>2</th>\n",
       "      <td>1</td>\n",
       "      <td>73571</td>\n",
       "      <td>[16, 51, 12, 85]</td>\n",
       "      <td>0</td>\n",
       "    </tr>\n",
       "    <tr>\n",
       "      <th>3</th>\n",
       "      <td>1</td>\n",
       "      <td>73586</td>\n",
       "      <td>[3, 4, 7, 18, 479]</td>\n",
       "      <td>0</td>\n",
       "    </tr>\n",
       "    <tr>\n",
       "      <th>4</th>\n",
       "      <td>1</td>\n",
       "      <td>73617</td>\n",
       "      <td>[18]</td>\n",
       "      <td>0</td>\n",
       "    </tr>\n",
       "  </tbody>\n",
       "</table>\n",
       "</div>\n",
       "      <button class=\"colab-df-convert\" onclick=\"convertToInteractive('df-c1618bf4-5e69-47a7-8dce-998704895b6e')\"\n",
       "              title=\"Convert this dataframe to an interactive table.\"\n",
       "              style=\"display:none;\">\n",
       "        \n",
       "  <svg xmlns=\"http://www.w3.org/2000/svg\" height=\"24px\"viewBox=\"0 0 24 24\"\n",
       "       width=\"24px\">\n",
       "    <path d=\"M0 0h24v24H0V0z\" fill=\"none\"/>\n",
       "    <path d=\"M18.56 5.44l.94 2.06.94-2.06 2.06-.94-2.06-.94-.94-2.06-.94 2.06-2.06.94zm-11 1L8.5 8.5l.94-2.06 2.06-.94-2.06-.94L8.5 2.5l-.94 2.06-2.06.94zm10 10l.94 2.06.94-2.06 2.06-.94-2.06-.94-.94-2.06-.94 2.06-2.06.94z\"/><path d=\"M17.41 7.96l-1.37-1.37c-.4-.4-.92-.59-1.43-.59-.52 0-1.04.2-1.43.59L10.3 9.45l-7.72 7.72c-.78.78-.78 2.05 0 2.83L4 21.41c.39.39.9.59 1.41.59.51 0 1.02-.2 1.41-.59l7.78-7.78 2.81-2.81c.8-.78.8-2.07 0-2.86zM5.41 20L4 18.59l7.72-7.72 1.47 1.35L5.41 20z\"/>\n",
       "  </svg>\n",
       "      </button>\n",
       "      \n",
       "  <style>\n",
       "    .colab-df-container {\n",
       "      display:flex;\n",
       "      flex-wrap:wrap;\n",
       "      gap: 12px;\n",
       "    }\n",
       "\n",
       "    .colab-df-convert {\n",
       "      background-color: #E8F0FE;\n",
       "      border: none;\n",
       "      border-radius: 50%;\n",
       "      cursor: pointer;\n",
       "      display: none;\n",
       "      fill: #1967D2;\n",
       "      height: 32px;\n",
       "      padding: 0 0 0 0;\n",
       "      width: 32px;\n",
       "    }\n",
       "\n",
       "    .colab-df-convert:hover {\n",
       "      background-color: #E2EBFA;\n",
       "      box-shadow: 0px 1px 2px rgba(60, 64, 67, 0.3), 0px 1px 3px 1px rgba(60, 64, 67, 0.15);\n",
       "      fill: #174EA6;\n",
       "    }\n",
       "\n",
       "    [theme=dark] .colab-df-convert {\n",
       "      background-color: #3B4455;\n",
       "      fill: #D2E3FC;\n",
       "    }\n",
       "\n",
       "    [theme=dark] .colab-df-convert:hover {\n",
       "      background-color: #434B5C;\n",
       "      box-shadow: 0px 1px 3px 1px rgba(0, 0, 0, 0.15);\n",
       "      filter: drop-shadow(0px 1px 2px rgba(0, 0, 0, 0.3));\n",
       "      fill: #FFFFFF;\n",
       "    }\n",
       "  </style>\n",
       "\n",
       "      <script>\n",
       "        const buttonEl =\n",
       "          document.querySelector('#df-c1618bf4-5e69-47a7-8dce-998704895b6e button.colab-df-convert');\n",
       "        buttonEl.style.display =\n",
       "          google.colab.kernel.accessAllowed ? 'block' : 'none';\n",
       "\n",
       "        async function convertToInteractive(key) {\n",
       "          const element = document.querySelector('#df-c1618bf4-5e69-47a7-8dce-998704895b6e');\n",
       "          const dataTable =\n",
       "            await google.colab.kernel.invokeFunction('convertToInteractive',\n",
       "                                                     [key], {});\n",
       "          if (!dataTable) return;\n",
       "\n",
       "          const docLinkHtml = 'Like what you see? Visit the ' +\n",
       "            '<a target=\"_blank\" href=https://colab.research.google.com/notebooks/data_table.ipynb>data table notebook</a>'\n",
       "            + ' to learn more about interactive tables.';\n",
       "          element.innerHTML = '';\n",
       "          dataTable['output_type'] = 'display_data';\n",
       "          await google.colab.output.renderOutput(dataTable, element);\n",
       "          const docLink = document.createElement('div');\n",
       "          docLink.innerHTML = docLinkHtml;\n",
       "          element.appendChild(docLink);\n",
       "        }\n",
       "      </script>\n",
       "    </div>\n",
       "  </div>\n",
       "  "
      ],
      "text/plain": [
       "   PID  DAY_ID DX_GROUP_DESCRIPTION  READMISSION\n",
       "0    1   73546                 [26]            0\n",
       "1    1   73564              [12, 5]            0\n",
       "2    1   73571     [16, 51, 12, 85]            0\n",
       "3    1   73586   [3, 4, 7, 18, 479]            0\n",
       "4    1   73617                 [18]            0"
      ]
     },
     "execution_count": 333,
     "metadata": {},
     "output_type": "execute_result"
    }
   ],
   "source": [
    "ARTIFACT_DATASET = 'Artifact_Dataset.csv'\n",
    "READMISSION_DAYS = 30\n",
    "\n",
    "if not os.path.isfile(os.path.join(UPLOAD_ROOT, ARTIFACT_DATASET)):\n",
    "  def hasReadmission(hospitalizationEvents, patient, date):\n",
    "    patientEvents = hospitalizationEvents[hospitalizationEvents[COLUMN_PATIENT] == patient]\n",
    "    return patientEvents[(date < patientEvents[COLUMN_DATE]) & (patientEvents[COLUMN_DATE] < (date + READMISSION_DAYS))].shape[0] > 0\n",
    "  Dataset = EncodedRawData\n",
    "  Dataset['READMISSION'] = Dataset.apply(lambda x: int(hasReadmission(HospitalizationEvents, x[COLUMN_PATIENT], x[COLUMN_DATE])), axis=1)\n",
    "  Dataset.to_csv(ARTIFACT_DATASET, index=False)\n",
    "\n",
    "Dataset = pd.read_csv(os.path.join(UPLOAD_ROOT, ARTIFACT_DATASET), converters={COLUMN_DIAGNOSIS: ast.literal_eval})\n",
    "assert COLUMN_PATIENT in Dataset\n",
    "assert COLUMN_DATE in Dataset\n",
    "assert COLUMN_DIAGNOSIS in Dataset\n",
    "assert 'READMISSION' in Dataset\n",
    "Dataset.head()"
   ]
  },
  {
   "cell_type": "markdown",
   "metadata": {
    "id": "L4EY7EVDc5oU"
   },
   "source": [
    "Build the dataset `Documents` and the ground truth `Labels`.\n",
    "\n",
    "`Documents` is a list, each entry is the information of 1 single `Patient`.\n",
    "\n",
    "```\n",
    "Documents = [Patient_1, Patient_2]\n",
    "```\n",
    "\n",
    "Each `Patient_i` is a list, each entry is the information of 1 single `Visit`.\n",
    "\n",
    "```\n",
    "Patient_i = [Visit_1, Visit_2]\n",
    "```\n",
    "\n",
    "Each `Visit_i` is a list of encoded diagnosis.\n",
    "\n",
    "```\n",
    "Visit_i = [Diag_1, Diag_2]\n",
    "```"
   ]
  },
  {
   "cell_type": "code",
   "execution_count": null,
   "metadata": {
    "colab": {
     "base_uri": "https://localhost:8080/"
    },
    "id": "3_BP8jYh3kav",
    "outputId": "1cba8f57-dbc2-4bc9-d1ee-a8260e0bf46b"
   },
   "outputs": [
    {
     "data": {
      "text/plain": [
       "3000"
      ]
     },
     "execution_count": 334,
     "metadata": {},
     "output_type": "execute_result"
    }
   ],
   "source": [
    "Documents = Dataset.groupby([COLUMN_PATIENT])[COLUMN_DIAGNOSIS].apply(list).reset_index()[COLUMN_DIAGNOSIS].tolist()\n",
    "Labels = Dataset.groupby([COLUMN_PATIENT])['READMISSION'].max().reset_index()['READMISSION'].tolist()\n",
    "len(Documents)"
   ]
  },
  {
   "cell_type": "markdown",
   "metadata": {
    "id": "oEVU7qbo9jE5"
   },
   "source": [
    "Split training and testing sets."
   ]
  },
  {
   "cell_type": "code",
   "execution_count": null,
   "metadata": {
    "colab": {
     "base_uri": "https://localhost:8080/"
    },
    "id": "LxU3E7Zt853R",
    "outputId": "7ecea744-0fa5-4208-c988-8e17b35c3217"
   },
   "outputs": [
    {
     "data": {
      "text/plain": [
       "2400"
      ]
     },
     "execution_count": 335,
     "metadata": {},
     "output_type": "execute_result"
    }
   ],
   "source": [
    "import sklearn.model_selection\n",
    "import torch.utils.data\n",
    "\n",
    "RANDOM_STATE = 42\n",
    "TEST_SIZE = 0.2\n",
    "\n",
    "class PatientDataset(torch.utils.data.Dataset):\n",
    "  def __init__(self, documents, labels):\n",
    "    self.x = documents\n",
    "    self.y = labels\n",
    "  def __len__(self):\n",
    "    return len(self.x)\n",
    "  def __getitem__(self, index):\n",
    "    return self.x[index], self.y[index]\n",
    "\n",
    "x_train, x_test, y_train, y_test = sklearn.model_selection.train_test_split(Documents, Labels, test_size=TEST_SIZE, random_state=RANDOM_STATE)\n",
    "TrainingDataset = PatientDataset(x_train, y_train)\n",
    "TestingDataset = PatientDataset(x_test, y_test)\n",
    "len(TrainingDataset)"
   ]
  },
  {
   "cell_type": "markdown",
   "metadata": {
    "id": "ZTP7Ugudb9rT"
   },
   "source": [
    "Define the dataset loader."
   ]
  },
  {
   "cell_type": "code",
   "execution_count": null,
   "metadata": {
    "colab": {
     "base_uri": "https://localhost:8080/"
    },
    "id": "RmE92c4hoOMa",
    "outputId": "e964efc1-d527-4a5c-d2e1-f418a30cc020"
   },
   "outputs": [
    {
     "data": {
      "text/plain": [
       "2400"
      ]
     },
     "execution_count": 336,
     "metadata": {},
     "output_type": "execute_result"
    }
   ],
   "source": [
    "import torch.utils.data\n",
    "import torch\n",
    "\n",
    "BATCH_SIZE = 1\n",
    "\n",
    "def collateFunc(data):\n",
    "  sequences, labels = zip(*data)\n",
    "  numPatients = len(sequences)\n",
    "  numVisits = [len(patient) for patient in sequences]\n",
    "  maxNumVisits = max(numVisits)\n",
    "  x = torch.zeros((numPatients, maxNumVisits, DiagnosisTally.shape[0]), dtype=torch.float)\n",
    "  for patientIndex, patient in enumerate(sequences):\n",
    "    for visitIndex, visit in enumerate(patient):\n",
    "      for diagnosis in visit:\n",
    "        x[patientIndex][visitIndex][diagnosis] = 1\n",
    "  x_masks = torch.sum(x, dim=-1) > 0\n",
    "  y = torch.tensor(labels, dtype=torch.float)\n",
    "  return x, x_masks, y\n",
    "\n",
    "TrainingLoader = torch.utils.data.DataLoader(TrainingDataset, shuffle=True, batch_size=BATCH_SIZE, collate_fn=collateFunc)\n",
    "TestingLoader = torch.utils.data.DataLoader(TestingDataset, batch_size=BATCH_SIZE, collate_fn=collateFunc)\n",
    "len(TrainingLoader)"
   ]
  },
  {
   "cell_type": "markdown",
   "metadata": {
    "id": "Cbjg6O43q2Nr"
   },
   "source": [
    "Define the CONTENT model."
   ]
  },
  {
   "cell_type": "code",
   "execution_count": null,
   "metadata": {
    "colab": {
     "base_uri": "https://localhost:8080/"
    },
    "id": "aD-O01Cnq3yJ",
    "outputId": "ba734779-e665-4540-92f3-b6c3d770bef4"
   },
   "outputs": [
    {
     "data": {
      "text/plain": [
       "ContentNet(\n",
       "  (rnn): GruNet(\n",
       "    (gru): GRU(490, 200, batch_first=True)\n",
       "    (fc): Linear(in_features=200, out_features=1, bias=True)\n",
       "  )\n",
       "  (recog): RecogNet(\n",
       "    (fc1): Linear(in_features=490, out_features=200, bias=True)\n",
       "    (fc2): Linear(in_features=200, out_features=1, bias=True)\n",
       "  )\n",
       "  (fc): Linear(in_features=2, out_features=1, bias=True)\n",
       ")"
      ]
     },
     "execution_count": 337,
     "metadata": {},
     "output_type": "execute_result"
    }
   ],
   "source": [
    "import torch.nn as nn\n",
    "import torch.nn.functional as F\n",
    "\n",
    "HIDDEN_SIZE = 200\n",
    "EMBEDDING_DIM = 100\n",
    "\n",
    "class GruNet(nn.Module):\n",
    "  def __init__(self, inputSize):\n",
    "    super().__init__()\n",
    "    self.gru = nn.GRU(input_size=inputSize, hidden_size=HIDDEN_SIZE, batch_first=True)\n",
    "    self.fc = nn.Linear(in_features=HIDDEN_SIZE, out_features=1)\n",
    "  def forward(self, x):\n",
    "    _, h = self.gru(x)\n",
    "    out = self.fc(h)\n",
    "    return out\n",
    "\n",
    "class RecogNet(nn.Module):\n",
    "  def __init__(self, inputSize):\n",
    "    super().__init__()\n",
    "    self.fc1 = nn.Linear(in_features=inputSize, out_features=HIDDEN_SIZE)\n",
    "    self.fc2 = nn.Linear(in_features=HIDDEN_SIZE, out_features=HIDDEN_SIZE)\n",
    "    self.fc3 = nn.Linear(in_features=HIDDEN_SIZE, out_features=1)\n",
    "  def forward(self, x):\n",
    "    out = F.relu(self.fc1(x))\n",
    "    out = F.relu(self.fc2(out))\n",
    "    out = F.relu(self.fc3(out))\n",
    "    return out\n",
    "\n",
    "class ContentNet(nn.Module):\n",
    "  def __init__(self):\n",
    "    super().__init__()\n",
    "    self.rnn = GruNet(Vocab.shape[0])\n",
    "    self.recog = RecogNet(Vocab.shape[0])\n",
    "    self.fc = nn.Linear(in_features=2, out_features=1)\n",
    "  def forward(self, x, masks):\n",
    "    batch_size = x.shape[0]\n",
    "    rnnOut = self.rnn(x)\n",
    "    recogOut = self.rnn(x)\n",
    "    logits = self.fc(torch.cat((rnnOut, recogOut), dim=-1))\n",
    "    probs = torch.sigmoid(logits)\n",
    "    return probs.view(batch_size)\n",
    "\n",
    "model = ContentNet()\n",
    "model"
   ]
  },
  {
   "cell_type": "markdown",
   "metadata": {
    "id": "q3CWb2liclGC"
   },
   "source": [
    "Model training."
   ]
  },
  {
   "cell_type": "code",
   "execution_count": null,
   "metadata": {
    "colab": {
     "base_uri": "https://localhost:8080/"
    },
    "id": "2q5ORCYwcmW8",
    "outputId": "c1622dd2-729a-414b-d4df-5c1892e5d34d"
   },
   "outputs": [
    {
     "name": "stdout",
     "output_type": "stream",
     "text": [
      "Epoch: 1 \t Training Loss: 0.340308\n",
      "Epoch: 1 \t Validation p: 0.90, r:1.00, f: 0.95, roc_auc: 0.64\n"
     ]
    }
   ],
   "source": [
    "EPOCHS = 1\n",
    "\n",
    "def eval(model, dataLoader):\n",
    "  model.eval()\n",
    "  y_pred = torch.LongTensor()\n",
    "  y_score = torch.Tensor()\n",
    "  y_true = torch.LongTensor()\n",
    "  for x, masks, y in dataLoader:\n",
    "    y_hat = model(x, masks)\n",
    "    y_score = torch.cat((y_score, y_hat.detach().to('cpu')), dim=0)\n",
    "    y_hat = (y_hat > 0.5).int()\n",
    "    y_pred = torch.cat((y_pred, y_hat.detach().to('cpu')), dim=0)\n",
    "    y_true = torch.cat((y_true, y.detach().to('cpu')), dim=0)\n",
    "  p, r, f, _ = sklearn.metrics.precision_recall_fscore_support(y_true=y_true, y_pred=y_pred, average='binary')\n",
    "  roc_auc = sklearn.metrics.roc_auc_score(y_true=y_true, y_score=y_score)\n",
    "  return p, r, f, roc_auc\n",
    "\n",
    "criterion = nn.BCELoss()\n",
    "optimizer = torch.optim.Adam(model.parameters(), 0.001)\n",
    "\n",
    "for epoch in range(EPOCHS):\n",
    "    model.train()\n",
    "    train_loss = 0\n",
    "    for x, x_masks, y in TrainingLoader:\n",
    "        loss = None\n",
    "        optimizer.zero_grad()\n",
    "        outputs = model(x, x_masks)\n",
    "        loss = criterion(outputs, y)\n",
    "        loss.backward()\n",
    "        optimizer.step()\n",
    "        train_loss += loss.item()\n",
    "    train_loss = train_loss / len(TrainingLoader)\n",
    "    print('Epoch: {} \\t Training Loss: {:.6f}'.format(epoch+1, train_loss))\n",
    "    p, r, f, roc_auc = eval(model, TrainingLoader)\n",
    "    print('Epoch: {} \\t Validation p: {:.2f}, r:{:.2f}, f: {:.2f}, roc_auc: {:.2f}'.format(epoch+1, p, r, f, roc_auc))"
   ]
  }
 ],
 "metadata": {
  "colab": {
   "collapsed_sections": [],
   "name": "DLH_Project(Paper#232).ipynb",
   "provenance": []
  },
  "kernelspec": {
   "display_name": "Python 3 (ipykernel)",
   "language": "python",
   "name": "python3"
  },
  "language_info": {
   "codemirror_mode": {
    "name": "ipython",
    "version": 3
   },
   "file_extension": ".py",
   "mimetype": "text/x-python",
   "name": "python",
   "nbconvert_exporter": "python",
   "pygments_lexer": "ipython3",
   "version": "3.8.10"
  }
 },
 "nbformat": 4,
 "nbformat_minor": 1
}
